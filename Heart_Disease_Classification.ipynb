{
  "nbformat": 4,
  "nbformat_minor": 0,
  "metadata": {
    "colab": {
      "name": "Heart Disease Classification.ipynb",
      "provenance": [],
      "toc_visible": true
    },
    "kernelspec": {
      "name": "python3",
      "display_name": "Python 3"
    }
  },
  "cells": [
    {
      "cell_type": "markdown",
      "metadata": {
        "id": "oU1ec2EnDswG"
      },
      "source": [
        "#importing Libraries \n",
        "\n",
        "\n",
        "\n"
      ]
    },
    {
      "cell_type": "code",
      "metadata": {
        "id": "8GCX8Dt3Dzyh"
      },
      "source": [
        "import numpy as np\n",
        "import matplotlib.pyplot as plt\n",
        "import pandas as pd\n",
        "import seaborn as sns"
      ],
      "execution_count": 1,
      "outputs": []
    },
    {
      "cell_type": "markdown",
      "metadata": {
        "id": "pvgbQBc1D3zs"
      },
      "source": [
        "# Importing the dataset"
      ]
    },
    {
      "cell_type": "code",
      "metadata": {
        "id": "EugM4XIfD8f8"
      },
      "source": [
        "dataset = pd.read_csv('heart.csv')\n",
        "X = dataset.iloc[:,:-1]\n",
        "y = dataset.iloc[:,-1]"
      ],
      "execution_count": 2,
      "outputs": []
    },
    {
      "cell_type": "markdown",
      "metadata": {
        "id": "REmyta3BEAQN"
      },
      "source": [
        "# Feature Scaling"
      ]
    },
    {
      "cell_type": "code",
      "metadata": {
        "id": "fDRXQHquEDLe"
      },
      "source": [
        "from sklearn.preprocessing import StandardScaler\n",
        "sc=StandardScaler()\n",
        "X=sc.fit_transform(X)"
      ],
      "execution_count": 3,
      "outputs": []
    },
    {
      "cell_type": "markdown",
      "metadata": {
        "id": "RLpc6na6EGjs"
      },
      "source": [
        "# Splitting the dataset into the Training set and Test set"
      ]
    },
    {
      "cell_type": "code",
      "metadata": {
        "id": "yXuyLog_EI0P"
      },
      "source": [
        "from sklearn.model_selection import train_test_split\n",
        "X_train, X_test, y_train, y_test = train_test_split(X, y, test_size = 0.25, random_state = 42)\n",
        "train_scores = []\n",
        "test_scores = []"
      ],
      "execution_count": 4,
      "outputs": []
    },
    {
      "cell_type": "markdown",
      "metadata": {
        "id": "DPZW_OuvERk6"
      },
      "source": [
        "# Training the Logistic Regression model on the Training set"
      ]
    },
    {
      "cell_type": "code",
      "metadata": {
        "id": "tvQpTileEUYp",
        "outputId": "8f1c40ba-eb8b-4292-d70a-711b1a913981",
        "colab": {
          "base_uri": "https://localhost:8080/",
          "height": 297
        }
      },
      "source": [
        "from sklearn.linear_model import LogisticRegression\n",
        "classifier=LogisticRegression(random_state=0)\n",
        "classifier.fit(X_train,y_train)\n",
        "\n",
        "#calculate the details\n",
        "print('test_score',classifier.score(X_test,y_test))\n",
        "print('train_score',classifier.score(X_train,y_train))\n",
        "\n",
        "\n",
        "train_scores.append(classifier.score(X_train,y_train))\n",
        "test_scores.append(classifier.score(X_test,y_test))\n",
        "\n",
        "\n",
        "# Predicting the Test set results\n",
        "y_pred = classifier.predict(X_test)\n",
        "\n",
        "# Making the Confusion Matrix\n",
        "from sklearn.metrics import confusion_matrix\n",
        "cm = confusion_matrix(y_test, y_pred)\n",
        "cm\n",
        "# drawing confusion matrix\n",
        "sns.heatmap(cm, center = True)\n",
        "plt.show()"
      ],
      "execution_count": 5,
      "outputs": [
        {
          "output_type": "stream",
          "text": [
            "test_score 0.868421052631579\n",
            "train_score 0.8590308370044053\n"
          ],
          "name": "stdout"
        },
        {
          "output_type": "display_data",
          "data": {
            "image/png": "[encoded data removed]",
            "text/plain": [
              "<Figure size 432x288 with 2 Axes>"
            ]
          },
          "metadata": {
            "tags": [],
            "needs_background": "light"
          }
        }
      ]
    },
    {
      "cell_type": "markdown",
      "metadata": {
        "id": "YTUhs4m5EalP"
      },
      "source": [
        "#Support Vector Machines (SVM)"
      ]
    },
    {
      "cell_type": "code",
      "metadata": {
        "id": "T6RZm2u8EeXt",
        "outputId": "2758220e-4a18-4026-d08e-ca0b7bc5e9c4",
        "colab": {
          "base_uri": "https://localhost:8080/",
          "height": 330
        }
      },
      "source": [
        "from sklearn.svm import SVC\n",
        "svcmodel = SVC(kernel='rbf',degree=3)\n",
        "svcmodel.fit(X_train,y_train)\n",
        "\n",
        "# Predicting the Test set results SVM\n",
        "y_pred = svcmodel.predict(X_test)\n",
        "\n",
        "#calculate the details SVM\n",
        "print('train_score svcmodel', svcmodel.score(X_train,y_train))\n",
        "print('test_score svcmodel',svcmodel.score(X_test,y_test))\n",
        "\n",
        "train_scores.append(svcmodel.score(X_train,y_train))\n",
        "test_scores.append(svcmodel.score(X_test,y_test))\n",
        "\n",
        "\n",
        "# Making the Confusion Matrix\n",
        "from sklearn.metrics import confusion_matrix\n",
        "cm = confusion_matrix(y_test,y_pred)\n",
        "print(cm)\n",
        "\n",
        "# drawing confusion matrix\n",
        "sns.heatmap(cm,center=True)\n",
        "plt.show()"
      ],
      "execution_count": 6,
      "outputs": [
        {
          "output_type": "stream",
          "text": [
            "train_score svcmodel 0.9162995594713657\n",
            "test_score svcmodel 0.881578947368421\n",
            "[[30  5]\n",
            " [ 4 37]]\n"
          ],
          "name": "stdout"
        },
        {
          "output_type": "display_data",
          "data": {
            "image/png": "[encoded data removed]",
            "text/plain": [
              "<Figure size 432x288 with 2 Axes>"
            ]
          },
          "metadata": {
            "tags": [],
            "needs_background": "light"
          }
        }
      ]
    },
    {
      "cell_type": "markdown",
      "metadata": {
        "id": "buB85d73Ekfs"
      },
      "source": [
        "#KNN\n"
      ]
    },
    {
      "cell_type": "code",
      "metadata": {
        "id": "VRoLlP87EnGn",
        "outputId": "c8b8588c-b42a-4db9-db3c-e5384826cc8b",
        "colab": {
          "base_uri": "https://localhost:8080/",
          "height": 330
        }
      },
      "source": [
        "from sklearn.neighbors import KNeighborsClassifier\n",
        "Knnclassifier_model = KNeighborsClassifier(n_neighbors=100 )\n",
        "Knnclassifier_model.fit(X_train,y_train)\n",
        "\n",
        "train_scores.append(Knnclassifier_model.score(X_train,y_train))\n",
        "test_scores.append(Knnclassifier_model.score(X_test,y_test))\n",
        "\n",
        "\n",
        "# Predicting the Test set results KNeighborsClassifier\n",
        "y_pred = Knnclassifier_model.predict(X_test)\n",
        "\n",
        "#calculate the details KNeighborsClassifier\n",
        "print('train_score Knnclassifier_model', Knnclassifier_model.score(X_train,y_train))\n",
        "print('test_score Knnclassifier_model',Knnclassifier_model.score(X_test,y_test))\n",
        "\n",
        "# Making the Confusion Matrix\n",
        "from sklearn.metrics import confusion_matrix\n",
        "cm = confusion_matrix(y_test,y_pred)\n",
        "print(cm)\n",
        "\n",
        "# drawing confusion matrix\n",
        "sns.heatmap(cm,center=True)\n",
        "plt.show()"
      ],
      "execution_count": 7,
      "outputs": [
        {
          "output_type": "stream",
          "text": [
            "train_score Knnclassifier_model 0.7841409691629956\n",
            "test_score Knnclassifier_model 0.8552631578947368\n",
            "[[27  8]\n",
            " [ 3 38]]\n"
          ],
          "name": "stdout"
        },
        {
          "output_type": "display_data",
          "data": {
            "image/png": "[encoded data removed]",
            "text/plain": [
              "<Figure size 432x288 with 2 Axes>"
            ]
          },
          "metadata": {
            "tags": [],
            "needs_background": "light"
          }
        }
      ]
    },
    {
      "cell_type": "markdown",
      "metadata": {
        "id": "UHMEGbTWErDI"
      },
      "source": [
        "#Naive Bayes\n"
      ]
    },
    {
      "cell_type": "code",
      "metadata": {
        "id": "45pkIydMEs9T",
        "outputId": "0f5d9f8c-a43f-4578-cd52-0c7afeb703d6",
        "colab": {
          "base_uri": "https://localhost:8080/",
          "height": 330
        }
      },
      "source": [
        "from sklearn.naive_bayes import GaussianNB\n",
        "gussian_model = GaussianNB(priors=None, var_smoothing=1e-09)\n",
        "gussian_model.fit(X_train,y_train)\n",
        "\n",
        "train_scores.append(gussian_model.score(X_train,y_train))\n",
        "test_scores.append(gussian_model.score(X_test,y_test))\n",
        "\n",
        "# Predicting the Test set results Naive Bayes\n",
        "y_pred = gussian_model.predict(X_test)\n",
        "\n",
        "#calculate the details Naive Bayes\n",
        "print('train_score gussian_model', gussian_model.score(X_train,y_train))\n",
        "print('test_score gussian_model',gussian_model.score(X_test,y_test))\n",
        "# Making the Confusion Matrix\n",
        "from sklearn.metrics import confusion_matrix\n",
        "cm = confusion_matrix(y_test,y_pred)\n",
        "print(cm)\n",
        "\n",
        "# drawing confusion matrix\n",
        "sns.heatmap(cm,center=True)\n",
        "plt.show()"
      ],
      "execution_count": 8,
      "outputs": [
        {
          "output_type": "stream",
          "text": [
            "train_score gussian_model 0.8105726872246696\n",
            "test_score gussian_model 0.881578947368421\n",
            "[[31  4]\n",
            " [ 5 36]]\n"
          ],
          "name": "stdout"
        },
        {
          "output_type": "display_data",
          "data": {
            "image/png": "[encoded data removed]",
            "text/plain": [
              "<Figure size 432x288 with 2 Axes>"
            ]
          },
          "metadata": {
            "tags": [],
            "needs_background": "light"
          }
        }
      ]
    },
    {
      "cell_type": "markdown",
      "metadata": {
        "id": "bjzqA9V4EzWA"
      },
      "source": [
        "#DecisionTreeClassifier\n"
      ]
    },
    {
      "cell_type": "code",
      "metadata": {
        "id": "SnKI7aG4E1EC",
        "outputId": "9d28b521-d9b4-4ab7-b0b2-e2e47d1ca0a6",
        "colab": {
          "base_uri": "https://localhost:8080/",
          "height": 330
        }
      },
      "source": [
        "from sklearn.tree import DecisionTreeClassifier\n",
        "DT_model=DecisionTreeClassifier(criterion='entropy')\n",
        "DT_model.fit(X_train,y_train)\n",
        "\n",
        "train_scores.append(DT_model.score(X_train,y_train))\n",
        "test_scores.append(DT_model.score(X_test,y_test))\n",
        "\n",
        "# Predicting the Test set results DecisionTreeClassifier Model\n",
        "y_pred = DT_model.predict(X_test)\n",
        "\n",
        "#calculate the details DecisionTreeClassifier Model\n",
        "print('train_score DT_model', DT_model.score(X_train,y_train))\n",
        "print('test_score DT_model',DT_model.score(X_test,y_test))\n",
        "# Making the Confusion Matrix\n",
        "from sklearn.metrics import confusion_matrix\n",
        "cm = confusion_matrix(y_test,y_pred)\n",
        "print(cm)\n",
        "\n",
        "# drawing confusion matrix\n",
        "sns.heatmap(cm,center=True)\n",
        "plt.show()"
      ],
      "execution_count": 9,
      "outputs": [
        {
          "output_type": "stream",
          "text": [
            "train_score DT_model 1.0\n",
            "test_score DT_model 0.8026315789473685\n",
            "[[30  5]\n",
            " [10 31]]\n"
          ],
          "name": "stdout"
        },
        {
          "output_type": "display_data",
          "data": {
            "image/png": "[encoded data removed]",
            "text/plain": [
              "<Figure size 432x288 with 2 Axes>"
            ]
          },
          "metadata": {
            "tags": [],
            "needs_background": "light"
          }
        }
      ]
    },
    {
      "cell_type": "markdown",
      "metadata": {
        "id": "p4-5a3oME5EX"
      },
      "source": [
        "#NNClassifier\n"
      ]
    },
    {
      "cell_type": "code",
      "metadata": {
        "id": "Wun91U89E8am",
        "outputId": "5de14fb6-ae22-4bfb-c3fb-4fa8eebf90f0",
        "colab": {
          "base_uri": "https://localhost:8080/",
          "height": 382
        }
      },
      "source": [
        "from sklearn.neural_network import MLPClassifier\n",
        "\n",
        "mlp_model = MLPClassifier(hidden_layer_sizes=100 ,activation='relu',alpha=0.01,epsilon=1E-08)\n",
        "mlp_model.fit(X_train,y_train)\n",
        "\n",
        "train_scores.append(mlp_model.score(X_train,y_train))\n",
        "test_scores.append(mlp_model.score(X_test,y_test))\n",
        "\n",
        "# Predicting the Test set results NNClassifier Model\n",
        "y_pred = mlp_model.predict(X_test)\n",
        "\n",
        "#calculate the details NNClassifier Model\n",
        "print('train_score mlp_model', mlp_model.score(X_train,y_train))\n",
        "print('test_score mlp_model',mlp_model.score(X_test,y_test))\n",
        "# Making the Confusion Matrix\n",
        "from sklearn.metrics import confusion_matrix\n",
        "cm = confusion_matrix(y_test,y_pred)\n",
        "print(cm)\n",
        "\n",
        "# drawing confusion matrix\n",
        "sns.heatmap(cm,center=True)\n",
        "plt.show()"
      ],
      "execution_count": 10,
      "outputs": [
        {
          "output_type": "stream",
          "text": [
            "/usr/local/lib/python3.6/dist-packages/sklearn/neural_network/_multilayer_perceptron.py:571: ConvergenceWarning: Stochastic Optimizer: Maximum iterations (200) reached and the optimization hasn't converged yet.\n",
            "  % self.max_iter, ConvergenceWarning)\n"
          ],
          "name": "stderr"
        },
        {
          "output_type": "stream",
          "text": [
            "train_score mlp_model 0.947136563876652\n",
            "test_score mlp_model 0.868421052631579\n",
            "[[29  6]\n",
            " [ 4 37]]\n"
          ],
          "name": "stdout"
        },
        {
          "output_type": "display_data",
          "data": {
            "image/png": "[encoded data removed]",
            "text/plain": [
              "<Figure size 432x288 with 2 Axes>"
            ]
          },
          "metadata": {
            "tags": [],
            "needs_background": "light"
          }
        }
      ]
    },
    {
      "cell_type": "markdown",
      "metadata": {
        "id": "IDYVzNI6FEcE"
      },
      "source": [
        "#RandomForestClassifier\n"
      ]
    },
    {
      "cell_type": "code",
      "metadata": {
        "id": "Mxw5glpIFFz5",
        "outputId": "99d760cc-7dc5-45a8-af57-3cbdd9f72d7b",
        "colab": {
          "base_uri": "https://localhost:8080/",
          "height": 330
        }
      },
      "source": [
        "from sklearn.ensemble import RandomForestClassifier\n",
        "\n",
        "rfc= RandomForestClassifier(criterion='gini',n_estimators=200,max_depth=3)\n",
        "rfc.fit(X_train,y_train)\n",
        "\n",
        "train_scores.append(rfc.score(X_train,y_train))\n",
        "test_scores.append(rfc.score(X_test,y_test))\n",
        "\n",
        "# Predicting the Test set results RandomForestClassifier Model\n",
        "y_pred = rfc.predict(X_test)\n",
        "\n",
        "#calculate the details RandomForestClassifier Model\n",
        "print('train_score rfc', rfc.score(X_train,y_train))\n",
        "print('test_score rfc',rfc.score(X_test,y_test))\n",
        "# Making the Confusion Matrix\n",
        "from sklearn.metrics import confusion_matrix\n",
        "cm = confusion_matrix(y_test,y_pred)\n",
        "print(cm)\n",
        "\n",
        "# drawing confusion matrix\n",
        "sns.heatmap(cm,center=True)\n",
        "plt.show()"
      ],
      "execution_count": 11,
      "outputs": [
        {
          "output_type": "stream",
          "text": [
            "train_score rfc 0.8942731277533039\n",
            "test_score rfc 0.8421052631578947\n",
            "[[27  8]\n",
            " [ 4 37]]\n"
          ],
          "name": "stdout"
        },
        {
          "output_type": "display_data",
          "data": {
            "image/png": "[encoded data removed]",
            "text/plain": [
              "<Figure size 432x288 with 2 Axes>"
            ]
          },
          "metadata": {
            "tags": [],
            "needs_background": "light"
          }
        }
      ]
    },
    {
      "cell_type": "markdown",
      "metadata": {
        "id": "btb69Or4FJfz"
      },
      "source": [
        "#visualization\n"
      ]
    },
    {
      "cell_type": "code",
      "metadata": {
        "id": "SKERjTJzFLLW",
        "outputId": "6d90d377-0e41-4a35-9a70-afa943e2c548",
        "colab": {
          "base_uri": "https://localhost:8080/",
          "height": 583
        }
      },
      "source": [
        "Labels = ['classifier', 'svcmodel', 'Knnclassifier_model', 'gussian_model','DT_model','mlp_model','rfc']\n",
        "X = np.arange(1,8)\n",
        "fig = plt.figure(figsize=(10,7))\n",
        "ax = fig.add_axes([0,0,1,1])\n",
        "plt.style.context('ggplot')\n",
        "ax.bar(X + 0.00, train_scores, color = 'b', width = 0.45,label = 'train Score')\n",
        "ax.bar(X + 0.40, test_scores, color = 'r', width = 0.45,label = 'test Score')\n",
        "for i,m in list(zip(X,train_scores)):\n",
        "  plt.text(x = i ,y = m,s = float(\"{:.2f}\".format(m)))\n",
        "for i,m in list(zip(X,test_scores)):\n",
        "  plt.text(x = i + 0.45 ,y = m,s = float(\"{:.2f}\".format(m)))\n",
        "ax.set_xlabel('Models')\n",
        "ax.set_ylabel('Scores')\n",
        "ax.set_xticks(X)\n",
        "ax.set_xticklabels(Labels)\n",
        "plt.legend()"
      ],
      "execution_count": 12,
      "outputs": [
        {
          "output_type": "execute_result",
          "data": {
            "text/plain": [
              "<matplotlib.legend.Legend at 0x7fbca161f5c0>"
            ]
          },
          "metadata": {
            "tags": []
          },
          "execution_count": 12
        },
        {
          "output_type": "display_data",
          "data": {
            "image/png": "[encoded data removed]",
            "text/plain": [
              "<Figure size 720x504 with 1 Axes>"
            ]
          },
          "metadata": {
            "tags": [],
            "needs_background": "light"
          }
        }
      ]
    }
  ]
}